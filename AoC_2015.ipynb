{
 "cells": [
  {
   "attachments": {},
   "cell_type": "markdown",
   "metadata": {},
   "source": [
    "## 🎄 Day 1 - Not Quite Lisp\n",
    "Santa was hoping for a white Christmas, but his weather machine's \"snow\" function is powered by stars, and he's fresh out! To save Christmas, he needs you to collect fifty stars by December 25th.\n",
    "\n",
    "Collect stars by helping Santa solve puzzles. Two puzzles will be made available on each day in the Advent calendar; the second puzzle is unlocked when you complete the first. Each puzzle grants one star. Good luck!\n",
    "\n",
    "Here's an easy puzzle to warm you up.\n",
    "\n",
    "Santa is trying to deliver presents in a large apartment building, but he can't find the right floor - the directions he got are a little confusing. He starts on the ground floor (floor `0`) and then follows the instructions one character at a time.\n",
    "\n",
    "An opening parenthesis, `(`, means he should go up one floor, and a closing parenthesis, `)`, means he should go down one floor.\n",
    "\n",
    "The apartment building is very tall, and the basement is very deep; he will never find the top or bottom floors.\n",
    "\n",
    "For example:\n",
    "\n",
    "* `(())` and `()()` both result in floor `0`.\n",
    "* `(((` and `(()(()(` both result in floor `3`.\n",
    "* `))(((((` also results in floor `3`.\n",
    "* `())` and `))(` both result in floor `-1` (the first basement level).\n",
    "* `)))` and `)())())` both result in floor `-3`.\n",
    "\n",
    "To **what floor** do the instructions take Santa?"
   ]
  },
  {
   "cell_type": "code",
   "execution_count": 3,
   "metadata": {},
   "outputs": [],
   "source": [
    "with open(\"data/2015_puzzle1.txt\", \"r\") as f:\n",
    "  instr = f.read()"
   ]
  },
  {
   "cell_type": "code",
   "execution_count": 5,
   "metadata": {},
   "outputs": [
    {
     "data": {
      "text/plain": [
       "232"
      ]
     },
     "execution_count": 5,
     "metadata": {},
     "output_type": "execute_result"
    }
   ],
   "source": [
    "import numpy as np\n",
    "\n",
    "up = np.count_nonzero(np.array(list(instr)) == \"(\")\n",
    "down = np.count_nonzero(np.array(list(instr)) == \")\")\n",
    "up - down"
   ]
  },
  {
   "attachments": {},
   "cell_type": "markdown",
   "metadata": {},
   "source": [
    "Your puzzle answer was `232`. ✅"
   ]
  },
  {
   "attachments": {},
   "cell_type": "markdown",
   "metadata": {},
   "source": [
    "#### Part Two\n",
    "Now, given the same instructions, find the position of the first character that causes him to enter the basement (floor `-1`). The first character in the instructions has position `1`, the second character has position `2`, and so on.\n",
    "\n",
    "For example:\n",
    "\n",
    "* `)` causes him to enter the basement at character position `1`.\n",
    "* `()())` causes him to enter the basement at character position `5`.\n",
    "\n",
    "What is the **position** of the character that causes Santa to first enter the basement?"
   ]
  },
  {
   "cell_type": "code",
   "execution_count": 6,
   "metadata": {},
   "outputs": [
    {
     "name": "stdout",
     "output_type": "stream",
     "text": [
      "1783\n"
     ]
    }
   ],
   "source": [
    "floor = 0\n",
    "for n, i in enumerate(list(instr)):\n",
    "  if i == \"(\":\n",
    "    floor += 1\n",
    "  else:\n",
    "    floor -= 1\n",
    "  if floor == -1:\n",
    "    print(n+1)\n",
    "    break"
   ]
  },
  {
   "attachments": {},
   "cell_type": "markdown",
   "metadata": {},
   "source": [
    "Your puzzle answer was `1783`. ✅"
   ]
  },
  {
   "attachments": {},
   "cell_type": "markdown",
   "metadata": {},
   "source": [
    "## 🎄 Day 2 - I Was Told There Would Be No Math\n",
    "The elves are running low on wrapping paper, and so they need to submit an order for more. They have a list of the dimensions (length `l`, width `w`, and height `h`) of each present, and only want to order exactly as much as they need.\n",
    "\n",
    "Fortunately, every present is a box (a perfect right rectangular prism), which makes calculating the required wrapping paper for each gift a little easier: find the surface area of the box, which is `2*l*w + 2*w*h + 2*h*l`. The elves also need a little extra paper for each present: the area of the smallest side.\n",
    "\n",
    "For example:\n",
    "\n",
    "* A present with dimensions `2x3x4` requires `2*6 + 2*12 + 2*8 = 52` square feet of wrapping paper plus `6` square feet of slack, for a total of `58` square feet.\n",
    "* A present with dimensions `1x1x10` requires `2*1 + 2*10 + 2*10 = 42` square feet of wrapping paper plus `1` square foot of slack, for a total of `43` square feet.\n",
    "\n",
    "All numbers in the elves' list are in feet. How many total **square feet of wrapping paper** should they order?"
   ]
  },
  {
   "cell_type": "code",
   "execution_count": 15,
   "metadata": {},
   "outputs": [],
   "source": [
    "with open(\"data/2015_puzzle2.txt\", \"r\") as f:\n",
    "  sizes = f.readlines()"
   ]
  },
  {
   "cell_type": "code",
   "execution_count": 45,
   "metadata": {},
   "outputs": [],
   "source": [
    "A_tot = 0\n",
    "for s in sizes:\n",
    "  l, w, h = s[:-1].split(\"x\")\n",
    "  l = int(l); w = int(w); h = int(h)\n",
    "  A_min = min(min(l*w, w*h), h*l)\n",
    "  A = 2*l*w + 2*w*h + 2*h*l + A_min\n",
    "  A_tot += A"
   ]
  },
  {
   "cell_type": "code",
   "execution_count": 46,
   "metadata": {},
   "outputs": [
    {
     "name": "stdout",
     "output_type": "stream",
     "text": [
      "1598415\n"
     ]
    }
   ],
   "source": [
    "print(A_tot)"
   ]
  },
  {
   "attachments": {},
   "cell_type": "markdown",
   "metadata": {},
   "source": [
    "Your puzzle answer was `1598415`. ✅"
   ]
  },
  {
   "attachments": {},
   "cell_type": "markdown",
   "metadata": {},
   "source": [
    "#### Part Two\n",
    "The elves are also running low on ribbon. Ribbon is all the same width, so they only have to worry about the length they need to order, which they would again like to be exact.\n",
    "\n",
    "The ribbon required to wrap a present is the shortest distance around its sides, or the smallest perimeter of any one face. Each present also requires a bow made out of ribbon as well; the feet of ribbon required for the perfect bow is equal to the cubic feet of volume of the present. Don't ask how they tie the bow, though; they'll never tell.\n",
    "\n",
    "For example:\n",
    "\n",
    "* A present with dimensions `2x3x4` requires `2+2+3+3 = 10` feet of ribbon to wrap the present plus `2*3*4 = 24` feet of ribbon for the bow, for a total of `34` feet.\n",
    "* A present with dimensions `1x1x10` requires `1+1+1+1 = 4` feet of ribbon to wrap the present plus `1*1*10 = 10` feet of ribbon for the bow, for a total of `14` feet.\n",
    "\n",
    "How many total **feet of ribbon** should they order?"
   ]
  },
  {
   "cell_type": "code",
   "execution_count": 47,
   "metadata": {},
   "outputs": [],
   "source": [
    "l_tot = 0\n",
    "for s in sizes:\n",
    "  l, w, h = s[:-1].split(\"x\")\n",
    "  l = int(l); w = int(w); h = int(h)\n",
    "  wrap = 2 * min(min(l+w, w+h), h+l)\n",
    "  bow = l*w*h\n",
    "  l_tot += wrap + bow"
   ]
  },
  {
   "cell_type": "code",
   "execution_count": 48,
   "metadata": {},
   "outputs": [
    {
     "name": "stdout",
     "output_type": "stream",
     "text": [
      "3812909\n"
     ]
    }
   ],
   "source": [
    "print(l_tot)"
   ]
  },
  {
   "attachments": {},
   "cell_type": "markdown",
   "metadata": {},
   "source": [
    "Your puzzle answer was `3812909`. ✅"
   ]
  },
  {
   "attachments": {},
   "cell_type": "markdown",
   "metadata": {},
   "source": [
    "## 🎄 Day 3 - Perfectly Spherical Houses in a Vacuum\n",
    "Santa is delivering presents to an infinite two-dimensional grid of houses.\n",
    "\n",
    "He begins by delivering a present to the house at his starting location, and then an elf at the North Pole calls him via radio and tells him where to move next. Moves are always exactly one house to the north (`^`), south (`v`), east (`>`), or west (`<`). After each move, he delivers another present to the house at his new location.\n",
    "\n",
    "However, the elf back at the north pole has had a little too much eggnog, and so his directions are a little off, and Santa ends up visiting some houses more than once. How many houses receive **at least one present**?\n",
    "\n",
    "For example:\n",
    "\n",
    "* `>` delivers presents to `2` houses: one at the starting location, and one to the east.\n",
    "* `^>v<` delivers presents to `4` houses in a square, including twice to the house at his starting/ending location.\n",
    "* `^v^v^v^v^v` delivers a bunch of presents to some very lucky children at only `2` houses."
   ]
  },
  {
   "cell_type": "code",
   "execution_count": 49,
   "metadata": {},
   "outputs": [],
   "source": [
    "with open(\"data/2015_puzzle3.txt\", \"r\") as f:\n",
    "  dirs = f.read()"
   ]
  },
  {
   "cell_type": "code",
   "execution_count": 52,
   "metadata": {},
   "outputs": [],
   "source": [
    "coords = [[0, 0]]\n",
    "for d in list(dirs):\n",
    "  new_coord = coords[-1].copy()\n",
    "  if d == \"^\":\n",
    "    new_coord[1] += 1\n",
    "  elif d == \"v\":\n",
    "    new_coord[1] -= 1\n",
    "  elif d == \">\":\n",
    "    new_coord[0] += 1\n",
    "  elif d == \"<\":\n",
    "    new_coord[0] -= 1\n",
    "  coords.append(new_coord)"
   ]
  },
  {
   "cell_type": "code",
   "execution_count": 57,
   "metadata": {},
   "outputs": [
    {
     "data": {
      "text/plain": [
       "2572"
      ]
     },
     "execution_count": 57,
     "metadata": {},
     "output_type": "execute_result"
    }
   ],
   "source": [
    "len(np.unique(coords, axis=0))"
   ]
  },
  {
   "attachments": {},
   "cell_type": "markdown",
   "metadata": {},
   "source": [
    "Your puzzle answer was `2572`. ✅"
   ]
  },
  {
   "attachments": {},
   "cell_type": "markdown",
   "metadata": {},
   "source": [
    "#### Part Two\n",
    "The next year, to speed up the process, Santa creates a robot version of himself, **Robo-Santa**, to deliver presents with him.\n",
    "\n",
    "Santa and Robo-Santa start at the same location (delivering two presents to the same starting house), then take turns moving based on instructions from the elf, who is eggnoggedly reading from the same script as the previous year.\n",
    "\n",
    "This year, how many houses receive **at least one present**?\n",
    "\n",
    "For example:\n",
    "\n",
    "* `^v` delivers presents to `3` houses, because Santa goes north, and then Robo-Santa goes south.\n",
    "* `^>v<` now delivers presents to `3` houses, and Santa and Robo-Santa end up back where they started.\n",
    "* `^v^v^v^v^v` now delivers presents to `11` houses, with Santa going one direction and Robo-Santa going the other."
   ]
  },
  {
   "cell_type": "code",
   "execution_count": 58,
   "metadata": {},
   "outputs": [],
   "source": [
    "santa_coords = [[0, 0]]\n",
    "robo_coords = [[0, 0]]\n",
    "\n",
    "for i, d in enumerate(list(dirs)):\n",
    "  if (i % 2) == 0:\n",
    "    new_coord = santa_coords[-1].copy()\n",
    "  else:\n",
    "    new_coord = robo_coords[-1].copy()\n",
    "\n",
    "  if d == \"^\":\n",
    "    new_coord[1] += 1\n",
    "  elif d == \"v\":\n",
    "    new_coord[1] -= 1\n",
    "  elif d == \">\":\n",
    "    new_coord[0] += 1\n",
    "  elif d == \"<\":\n",
    "    new_coord[0] -= 1\n",
    "\n",
    "  if (i % 2) == 0:\n",
    "    santa_coords.append(new_coord)\n",
    "  else:\n",
    "    robo_coords.append(new_coord)"
   ]
  },
  {
   "cell_type": "code",
   "execution_count": 61,
   "metadata": {},
   "outputs": [
    {
     "data": {
      "text/plain": [
       "2631"
      ]
     },
     "execution_count": 61,
     "metadata": {},
     "output_type": "execute_result"
    }
   ],
   "source": [
    "len(np.unique(np.concatenate([santa_coords, robo_coords]), axis=0))"
   ]
  },
  {
   "attachments": {},
   "cell_type": "markdown",
   "metadata": {},
   "source": [
    "Your puzzle answer was `2631`. ✅"
   ]
  },
  {
   "cell_type": "code",
   "execution_count": null,
   "metadata": {},
   "outputs": [],
   "source": []
  }
 ],
 "metadata": {
  "kernelspec": {
   "display_name": "Python 3.9.13 ('base')",
   "language": "python",
   "name": "python3"
  },
  "language_info": {
   "codemirror_mode": {
    "name": "ipython",
    "version": 3
   },
   "file_extension": ".py",
   "mimetype": "text/x-python",
   "name": "python",
   "nbconvert_exporter": "python",
   "pygments_lexer": "ipython3",
   "version": "3.9.15"
  },
  "orig_nbformat": 4,
  "vscode": {
   "interpreter": {
    "hash": "044c6751b62503dbd7d7ed91d53eba4754986c1a2e5ed733260fb3415ab22cb4"
   }
  }
 },
 "nbformat": 4,
 "nbformat_minor": 2
}
